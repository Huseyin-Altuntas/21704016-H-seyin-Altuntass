{
 "cells": [
  {
   "cell_type": "code",
   "execution_count": null,
   "metadata": {},
   "outputs": [],
   "source": [
    "print('Hoşgeldiniz! \\n ')\n",
    "\n",
    "print('birinci seçenekte hipotenüs hesaplanacak. \\n ')\n",
    "\n",
    "print('ikinci seçenekte 0dan başlayarak girilen sayıya kadar sıralanacak. \\n ')\n",
    "\n",
    "print('üçüncü seçenekte seçilen 6 sayının aritmetik ortalaması alınacak. \\n ')\n",
    "\n",
    "x= float(input(\"1. 2. 3. arasından bir seçenek seçiniz: \"))\n",
    "\n",
    "if x == 1: \n",
    "    print(' Hipotenüs hesaplanacak ')\n",
    "    a=int(input(' a uzunluğu '))\n",
    "    b=int(input(' b uzunluğu '))\n",
    "    c=(a**2+b**2)**0.5\n",
    "    print(c)\n",
    "\n",
    "elif x == 2: \n",
    "    print(' 0dan itibaren seçilen sayıya kadar tüm sayılar sıralanacak ')\n",
    "    \n",
    "    i=int(input(' bir sayı giriniz: '))\n",
    "    while i > 0:\n",
    "        print('',i)\n",
    "        if i<=0:\n",
    "          break\n",
    "        i-=1\n",
    "elif x == 3:\n",
    "    print('Girilen 6 sayının aritmetik ortalaması alınacak')\n",
    "    x1=int(input('birinci sayı: '))\n",
    "    x2=int(input('ikinci sayı: '))\n",
    "    x3=int(input('üçüncü sayı: '))\n",
    "    x4=int(input('dördüncü sayı: '))\n",
    "    x5=int(input('beşinci sayı: '))\n",
    "    x6=int(input('altıncı sayı: '))\n",
    "    aort= (x1+x2+x3+x4+x5+x6)/6\n",
    "    print('ortalama', aort)\n",
    "else:\n",
    "    print('Hata!, sistemi yeniden başlat!')"
   ]
  }
 ],
 "metadata": {
  "kernelspec": {
   "display_name": "Python 3",
   "language": "python",
   "name": "python3"
  },
  "language_info": {
   "codemirror_mode": {
    "name": "ipython",
    "version": 3
   },
   "file_extension": ".py",
   "mimetype": "text/x-python",
   "name": "python",
   "nbconvert_exporter": "python",
   "pygments_lexer": "ipython3",
   "version": "3.6.5"
  }
 },
 "nbformat": 4,
 "nbformat_minor": 2
}
