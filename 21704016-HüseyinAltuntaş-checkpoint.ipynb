{
 "cells": [
  {
   "cell_type": "code",
   "execution_count": 8,
   "metadata": {},
   "outputs": [
    {
     "name": "stdout",
     "output_type": "stream",
     "text": [
      "x square:4\n",
      "x:25\n",
      "fixed term:25\n",
      "discriminant: 225\n",
      "x1: -1.25\n",
      "x2: -5.0\n"
     ]
    }
   ],
   "source": [
    "value1 = int(input('x square:'))\n",
    "value2 = int(input('x:'))\n",
    "value3 = int(input('fixed term:'))\n",
    "dis = (value2**2-4*value1*value3)\n",
    "print(\"discriminant:\",dis)\n",
    "x1 = (-value2 + dis**0.5)/(2*value1)\n",
    "print(\"x1:\",x1)\n",
    "x2 = (-value2 - dis**0.5)/(2*value1)\n",
    "print(\"x2:\",x2)"
   ]
  },
  {
   "cell_type": "code",
   "execution_count": null,
   "metadata": {},
   "outputs": [],
   "source": []
  }
 ],
 "metadata": {
  "kernelspec": {
   "display_name": "Python 3",
   "language": "python",
   "name": "python3"
  },
  "language_info": {
   "codemirror_mode": {
    "name": "ipython",
    "version": 3
   },
   "file_extension": ".py",
   "mimetype": "text/x-python",
   "name": "python",
   "nbconvert_exporter": "python",
   "pygments_lexer": "ipython3",
   "version": "3.6.5"
  }
 },
 "nbformat": 4,
 "nbformat_minor": 2
}
